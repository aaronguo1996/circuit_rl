{
 "cells": [
  {
   "cell_type": "code",
   "execution_count": 11,
   "metadata": {},
   "outputs": [],
   "source": [
    "import numpy as np\n",
    "from qiskit import *\n",
    "from qiskit.compiler import transpile\n",
    "from qiskit.qasm2 import dumps\n",
    "from multiprocessing import Pool\n",
    "from qiskit.transpiler.exceptions import TranspilerError\n",
    "from scipy.linalg import schur"
   ]
  },
  {
   "cell_type": "code",
   "execution_count": 12,
   "metadata": {},
   "outputs": [],
   "source": [
    "def rand_cx(n):\n",
    "    q1 = np.random.randint(n)\n",
    "    q2 = np.delete(np.arange(n), q1)\n",
    "    q2 = np.random.choice(q2, size=1)[0]\n",
    "    return 'cx q[' + str(q1) + '],q[' + str(q2) + '];\\n', q1, q2\n",
    "\n",
    "def supremacy_circuit(bend=None, m=1, n=3):\n",
    "    sqrtx = 'u3(1.57079632679490,-1.57079632679490,1.57079632679490)'\n",
    "    sqrty = 'u3(1.57079632679490,0,0)'\n",
    "    sqrtw = 'u3(1.57079632679490,-0.785398163397448,0.785398163397449)'\n",
    "    gates = [sqrtx, sqrty, sqrtw]\n",
    "\n",
    "    qasm_base = \"\"\"OPENQASM 2.0;\n",
    "                include \"qelib1.inc\";\n",
    "                qreg q[n];\"\"\"\n",
    "\n",
    "    last_gates = -np.ones(n, dtype=np.int64)\n",
    "    s = qasm_base.replace('[n]', '[' + str(n) + ']')\n",
    "    for i in range(m):\n",
    "        # single-qubit gates\n",
    "        for j in range(n):\n",
    "            choices = np.arange(len(gates))\n",
    "            if last_gates[j] != -1:\n",
    "                choices = np.delete(choices, last_gates[j])\n",
    "            g = np.random.choice(choices, size=1)[0]\n",
    "            last_gates[j] = g\n",
    "            s += gates[g] + ' q[' + str(j) + '];\\n'\n",
    "\n",
    "        # two-qubit gate\n",
    "        # g, q1, q2 = rand_cx(n)\n",
    "        # s += g\n",
    "        # last_gates[q1] = -1\n",
    "        # last_gates[q2]\n",
    "    first_half = QuantumCircuit.from_qasm_str(s)\n",
    "    qc = transpile(first_half, backend=bend, optimization_level=0)\n",
    "    s = dumps(qc)\n",
    "    # for i in range(n):\n",
    "    #     s += 'measure q[' + str(i) + '] -> c[' + str(i) + '];\\n'\n",
    "    return s"
   ]
  },
  {
   "cell_type": "code",
   "execution_count": 13,
   "metadata": {
    "tags": []
   },
   "outputs": [
    {
     "data": {
      "text/html": [
       "<pre style=\"word-wrap: normal;white-space: pre;background: #fff0;line-height: 1.1;font-family: &quot;Courier New&quot;,Courier,monospace\">     ┌──────────────────┐  ┌─────────────┐   \n",
       "q_0: ┤ U3(π/2,-π/4,π/4) ├──┤ U3(π/2,0,0) ├───\n",
       "     ├──────────────────┤┌─┴─────────────┴──┐\n",
       "q_1: ┤ U3(π/2,-π/4,π/4) ├┤ U3(π/2,-π/2,π/2) ├\n",
       "     ├──────────────────┤└─┬─────────────┬──┘\n",
       "q_2: ┤ U3(π/2,-π/4,π/4) ├──┤ U3(π/2,0,0) ├───\n",
       "     └──────────────────┘  └─────────────┘   </pre>"
      ],
      "text/plain": [
       "     ┌──────────────────┐  ┌─────────────┐   \n",
       "q_0: ┤ U3(π/2,-π/4,π/4) ├──┤ U3(π/2,0,0) ├───\n",
       "     ├──────────────────┤┌─┴─────────────┴──┐\n",
       "q_1: ┤ U3(π/2,-π/4,π/4) ├┤ U3(π/2,-π/2,π/2) ├\n",
       "     ├──────────────────┤└─┬─────────────┬──┘\n",
       "q_2: ┤ U3(π/2,-π/4,π/4) ├──┤ U3(π/2,0,0) ├───\n",
       "     └──────────────────┘  └─────────────┘   "
      ]
     },
     "execution_count": 13,
     "metadata": {},
     "output_type": "execute_result"
    }
   ],
   "source": [
    "n = 3\n",
    "m = 2\n",
    "s = supremacy_circuit(m=m, n=n)\n",
    "qc = QuantumCircuit.from_qasm_str(s)\n",
    "qc.draw()"
   ]
  },
  {
   "cell_type": "code",
   "execution_count": 14,
   "metadata": {},
   "outputs": [],
   "source": [
    "# measuring fidelity\n",
    "\n",
    "# from qiskit.quantum_info import state_fidelity\n",
    "\n",
    "# # set up qc1 and qc2\n",
    "\n",
    "# backend = Aer.get_backend('state_vector')\n",
    "\n",
    "# sv1 = execute(qc1, backend).result().get_statevector(qc1)\n",
    "# sv2 = execute(qc2, backend).result().get_statevector(qc2)\n",
    "\n",
    "# print(state_fidelity(sv1, sv2))"
   ]
  },
  {
   "cell_type": "markdown",
   "metadata": {},
   "source": [
    "https://www.youtube.com/watch?v=kWHSH2HgbNQ continuous action space, actor/critic\n",
    "\n",
    "http://proceedings.mlr.press/v32/silver14.pdf deterministic policy gradient algorithms"
   ]
  },
  {
   "cell_type": "markdown",
   "metadata": {},
   "source": [
    "One 'game' can be the computer building a circuit and choosing parameters for a given depth D\n",
    "\n",
    "Reward at end of game can be fidelity i.e. < 0.5 few points, 0.5 < |<\\psi|\\phi>|^2 < 0.75 more points, > 0.9 most points, for example\n",
    "\n",
    "Restrict the network to only build the circuit forwards. Either give it a fixed amount of gates sqrtx/y/z cnot or choose to do nothing. This would make the state space significantly smaller I think. Or have it choose a ry/z/x cnot gate as well as a theta. But still make it only build up, which decreases number of actions it could make.\n",
    "\n",
    "so really the actions are:\n",
    "    gate on qb 1...n with a theta.\n",
    "    cnot gate between two qbs\n",
    "I guess there are a lot of options still\n",
    "\n",
    "at least if there is no theta to pick the action space will be discrete. The state space will still be continuous though, maybe a circuit and a fidelity"
   ]
  },
  {
   "cell_type": "code",
   "execution_count": 15,
   "metadata": {},
   "outputs": [],
   "source": [
    "# shape: (# channels, # layers, # qubits)\n",
    "# only put u3 and cx channels; u1 and u2 are encoded in u3 channel since they are rare\n",
    "def circuit_to_image(s3: str, n=5, n_channels=4, max_size=16):\n",
    "    # create array to determine where gaps are, assuming latest-as-possible scheduling\n",
    "    s3 = s3.replace('pi', 'np.pi')\n",
    "    trimmed = s3[s3.find('qreg'):s3.find('barrier')].splitlines()[1:]\n",
    "    trimmed.reverse()\n",
    "    print(trimmed)\n",
    "    circuit_arr = np.zeros((n, max_size), dtype=np.int64)\n",
    "    circuit_img = np.zeros((n, max_size, n_channels))\n",
    "\n",
    "    for ind in range(len(trimmed)):\n",
    "        line = trimmed[ind]\n",
    "        offset = 0\n",
    "        qubits = []\n",
    "        for i in range(2):\n",
    "            q1_start = line.find('q', offset)\n",
    "            if q1_start == -1:\n",
    "                break\n",
    "            q1_end = line.find(']', q1_start)\n",
    "            qubit = line[q1_start+2:q1_end]\n",
    "            qubits.append(int(qubit))\n",
    "            offset = q1_end\n",
    "        col_num = []\n",
    "        for q in qubits:\n",
    "            if len(np.nonzero(circuit_arr[q])[0]) != 0:\n",
    "                col_num.append(np.max(np.nonzero(circuit_arr[q])))\n",
    "        if len(col_num) == 0:\n",
    "            col_num = 0\n",
    "        else:\n",
    "            col_num = np.max(col_num) + 1\n",
    "        if col_num >= max_size:\n",
    "            break\n",
    "        for i in range(len(qubits)):\n",
    "            q = qubits[i]\n",
    "            circuit_arr[q][col_num] = 1 + ind\n",
    "            if 'u1' in line:\n",
    "                args = line[line.find('(') + 1 : line.find(')')].split(',')\n",
    "                circuit_img[q][col_num][0] = eval(args[0])\n",
    "                circuit_img[q][col_num][1] = -1\n",
    "                circuit_img[q][col_num][2] = -1\n",
    "            elif 'u2' in line:\n",
    "                args = line[line.find('(') + 1 : line.find(')')].split(',')\n",
    "                circuit_img[q][col_num][0] = eval(args[0])\n",
    "                circuit_img[q][col_num][1] = eval(args[1])\n",
    "                circuit_img[q][col_num][2] = -1\n",
    "            elif 'u3' in line:\n",
    "                args = line[line.find('(') + 1 : line.find(')')].split(',')\n",
    "                circuit_img[q][col_num][0] = eval(args[0])\n",
    "                circuit_img[q][col_num][1] = eval(args[1])\n",
    "                circuit_img[q][col_num][2] = eval(args[2])\n",
    "            elif 'cx' in line:\n",
    "                circuit_img[q][col_num][3] = i*2 - 1\n",
    "\n",
    "    image = np.swapaxes(circuit_img, 0, 2)\n",
    "    return image"
   ]
  },
  {
   "cell_type": "code",
   "execution_count": 16,
   "metadata": {
    "tags": []
   },
   "outputs": [
    {
     "name": "stdout",
     "output_type": "stream",
     "text": [
      "['u3(np.pi/2,0,0) q[2]', 'u3(np.pi/2,-np.pi/4,np.pi/4) q[2];', 'u3(np.pi/2,-np.pi/2,np.pi/2) q[1];', 'u3(np.pi/2,-np.pi/4,np.pi/4) q[1];', 'u3(np.pi/2,0,0) q[0];', 'u3(np.pi/2,-np.pi/4,np.pi/4) q[0];']\n"
     ]
    }
   ],
   "source": [
    "arr = circuit_to_image(s, n=n, max_size=m*2)\n",
    "# arr = circuit_to_image('OPENQASM 2.0;\\ninclude \"qelib1.inc\";\\nqreg q[3];\\ncreg c[3];\\nu3(pi/2,-pi/4,pi/4) q[0];\\nu3(pi/2,-pi/4,pi/4) q[1];\\ncx q[0],q[1];', n=3, max_size=4)"
   ]
  },
  {
   "cell_type": "code",
   "execution_count": 17,
   "metadata": {
    "tags": []
   },
   "outputs": [
    {
     "name": "stderr",
     "output_type": "stream",
     "text": [
      "Clipping input data to the valid range for imshow with RGB data ([0..1] for floats or [0..255] for integers).\n"
     ]
    },
    {
     "data": {
      "text/plain": [
       "<matplotlib.image.AxesImage at 0x7fdcad31c190>"
      ]
     },
     "execution_count": 17,
     "metadata": {},
     "output_type": "execute_result"
    },
    {
     "data": {
      "image/png": "[encoded data removed]",
      "text/plain": [
       "<Figure size 640x480 with 1 Axes>"
      ]
     },
     "metadata": {},
     "output_type": "display_data"
    }
   ],
   "source": [
    "import matplotlib.pyplot as plt\n",
    "plt.imshow(arr)"
   ]
  },
  {
   "cell_type": "code",
   "execution_count": 18,
   "metadata": {
    "tags": []
   },
   "outputs": [
    {
     "data": {
      "text/plain": [
       "True"
      ]
     },
     "execution_count": 18,
     "metadata": {},
     "output_type": "execute_result"
    }
   ],
   "source": [
    "def valid_imshow_data(data):\n",
    "    data = np.asarray(data)\n",
    "    if data.ndim == 2:\n",
    "        return True\n",
    "    elif data.ndim == 3:\n",
    "        if 3 <= data.shape[2] <= 4:\n",
    "            return True\n",
    "        else:\n",
    "            print('The \"data\" has 3 dimensions but the last dimension '\n",
    "                  'must have a length of 3 (RGB) or 4 (RGBA), not \"{}\".'\n",
    "                  ''.format(data.shape[2]))\n",
    "            return False\n",
    "    else:\n",
    "        print('To visualize an image the data must be 2 dimensional or '\n",
    "              '3 dimensional, not \"{}\".'\n",
    "              ''.format(data.ndim))\n",
    "        return False\n",
    "\n",
    "valid_imshow_data(arr)"
   ]
  },
  {
   "cell_type": "code",
   "execution_count": 19,
   "metadata": {},
   "outputs": [],
   "source": [
    "def random_unitary(dim: int) -> np.ndarray:\n",
    "  # follows the algorithm in https://arxiv.org/pdf/math-ph/0609050.pdf\n",
    "  # returns a unitary of size dim x dim\n",
    "  Z = np.array([np.random.normal(0, 1) + np.random.normal(0, 1) * 1j for _ in range(dim ** 2)]).reshape(dim, dim)\n",
    "  Q, R = np.linalg.qr(Z)\n",
    "  diag = np.diagonal(R)\n",
    "  lamb = np.diag(diag) / np.absolute(diag)\n",
    "  unitary = np.matmul(Q, lamb)\n",
    "\n",
    "  # this condition asserts that the matrix is unitary\n",
    "  assert np.allclose(unitary.conj().T @ unitary, np.eye(dim))\n",
    "\n",
    "  return unitary\n",
    "\n",
    "def random_density():\n",
    "    theta = np.random.uniform(0, np.pi)\n",
    "    phi = np.random.uniform(-np.pi, np.pi)\n",
    "    state = np.cos(theta / 2) * np.array([1,0]) + np.exp(1j * phi) * np.sin(theta / 2) * np.array([0, 1])\n",
    "    return state"
   ]
  },
  {
   "cell_type": "code",
   "execution_count": 20,
   "metadata": {},
   "outputs": [
    {
     "name": "stdout",
     "output_type": "stream",
     "text": [
      "0.9999999999641014 -0.999986768332251 0.9999808579271164 -0.9999820749329205\n"
     ]
    }
   ],
   "source": [
    "rmax = -1\n",
    "rmin = 1\n",
    "imax = -1\n",
    "imin = 1\n",
    "for i in range(100000):\n",
    "    s = random_density()\n",
    "    u = np.outer(s, s)\n",
    "    if (np.amax(u.real) > rmax):\n",
    "        rmax = np.amax(u.real)\n",
    "    if (np.amin(u.real) < rmin):\n",
    "        rmin = np.amin(u.real)\n",
    "    if (np.amax(u.imag) > imax):\n",
    "        imax = np.amax(u.imag)\n",
    "    if (np.amin(u.imag) < imin):\n",
    "        imin = np.amin(u.imag)\n",
    "print(rmax, rmin, imax, imin)"
   ]
  },
  {
   "cell_type": "code",
   "execution_count": null,
   "metadata": {},
   "outputs": [],
   "source": []
  },
  {
   "cell_type": "code",
   "execution_count": 21,
   "metadata": {},
   "outputs": [
    {
     "data": {
      "text/plain": [
       "array([[0.10841364+0.j        , 0.27282616-0.14908391j],\n",
       "       [0.27282616-0.14908391j, 0.48156395-0.75034818j]])"
      ]
     },
     "execution_count": 21,
     "metadata": {},
     "output_type": "execute_result"
    }
   ],
   "source": [
    "np.outer(s, s)"
   ]
  },
  {
   "cell_type": "code",
   "execution_count": 22,
   "metadata": {},
   "outputs": [
    {
     "data": {
      "text/plain": [
       "array([0.32926227+0.j        , 0.82859831-0.45278163j])"
      ]
     },
     "execution_count": 22,
     "metadata": {},
     "output_type": "execute_result"
    }
   ],
   "source": [
    "s"
   ]
  },
  {
   "cell_type": "code",
   "execution_count": 23,
   "metadata": {},
   "outputs": [],
   "source": [
    "H = np.array([[1,1],[1,-1]]) * 1/np.sqrt(2)\n",
    "I = np.array([[1,0],[0,1]])\n",
    "CNOT = np.array([[1,0,0,0],[0,1,0,0],[0,0,0,1],[0,0,1,0]])"
   ]
  },
  {
   "cell_type": "code",
   "execution_count": 24,
   "metadata": {},
   "outputs": [
    {
     "data": {
      "text/plain": [
       "array([[ 0.70710678,  0.        ,  0.70710678,  0.        ],\n",
       "       [ 0.        ,  0.70710678,  0.        ,  0.70710678],\n",
       "       [ 0.        ,  0.70710678,  0.        , -0.70710678],\n",
       "       [ 0.70710678,  0.        , -0.70710678,  0.        ]])"
      ]
     },
     "execution_count": 24,
     "metadata": {},
     "output_type": "execute_result"
    }
   ],
   "source": [
    "CNOT @ np.kron(H, I)"
   ]
  },
  {
   "cell_type": "code",
   "execution_count": null,
   "metadata": {},
   "outputs": [],
   "source": []
  },
  {
   "cell_type": "code",
   "execution_count": null,
   "metadata": {},
   "outputs": [],
   "source": []
  },
  {
   "cell_type": "code",
   "execution_count": null,
   "metadata": {},
   "outputs": [],
   "source": []
  }
 ],
 "metadata": {
  "kernelspec": {
   "display_name": "Python 3 (ipykernel)",
   "language": "python",
   "name": "python3"
  },
  "language_info": {
   "codemirror_mode": {
    "name": "ipython",
    "version": 3
   },
   "file_extension": ".py",
   "mimetype": "text/x-python",
   "name": "python",
   "nbconvert_exporter": "python",
   "pygments_lexer": "ipython3",
   "version": "3.9.5"
  }
 },
 "nbformat": 4,
 "nbformat_minor": 2
}
